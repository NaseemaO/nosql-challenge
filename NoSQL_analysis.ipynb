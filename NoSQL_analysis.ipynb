{
 "cells": [
  {
   "cell_type": "markdown",
   "id": "9a57c4c6",
   "metadata": {},
   "source": [
    "# Eat Safe, Love"
   ]
  },
  {
   "cell_type": "markdown",
   "id": "064ef857",
   "metadata": {},
   "source": [
    "## Notebook Set Up"
   ]
  },
  {
   "cell_type": "code",
   "execution_count": 1,
   "id": "3ecdd008",
   "metadata": {},
   "outputs": [],
   "source": [
    "# Import dependencies\n",
    "from pymongo import MongoClient\n",
    "import pandas as pd\n",
    "from pprint import pprint"
   ]
  },
  {
   "cell_type": "code",
   "execution_count": 2,
   "id": "59390c4a",
   "metadata": {},
   "outputs": [],
   "source": [
    "# Create an instance of MongoClient\n",
    "mongo = MongoClient(port=27017)"
   ]
  },
  {
   "cell_type": "code",
   "execution_count": 3,
   "id": "71e373c1",
   "metadata": {},
   "outputs": [],
   "source": [
    "# assign the uk_food database to a variable name\n",
    "db = mongo['uk_food']"
   ]
  },
  {
   "cell_type": "code",
   "execution_count": 4,
   "id": "e76e8bc3",
   "metadata": {},
   "outputs": [
    {
     "name": "stdout",
     "output_type": "stream",
     "text": [
      "['GardenDB', 'admin', 'classDB', 'config', 'epa', 'local', 'met', 'petsitly_marketing', 'uk_food']\n"
     ]
    }
   ],
   "source": [
    "print(mongo.list_database_names())"
   ]
  },
  {
   "cell_type": "code",
   "execution_count": 5,
   "id": "18ab463c",
   "metadata": {},
   "outputs": [
    {
     "name": "stdout",
     "output_type": "stream",
     "text": [
      "['establishments']\n"
     ]
    }
   ],
   "source": [
    "# review the collections in our database\n",
    "print(db.list_collection_names())"
   ]
  },
  {
   "cell_type": "code",
   "execution_count": 6,
   "id": "11c9f11b",
   "metadata": {},
   "outputs": [],
   "source": [
    "# assign the collection to a variable\n",
    "establishments = db['establishments']"
   ]
  },
  {
   "cell_type": "code",
   "execution_count": 7,
   "id": "f0b4c7c8",
   "metadata": {},
   "outputs": [
    {
     "data": {
      "text/plain": [
       "38786"
      ]
     },
     "execution_count": 7,
     "metadata": {},
     "output_type": "execute_result"
    }
   ],
   "source": [
    "db.establishments.count_documents({})"
   ]
  },
  {
   "cell_type": "markdown",
   "id": "d5671434",
   "metadata": {},
   "source": [
    "## Part 3: Exploratory Analysis\n",
    "Unless otherwise stated, for each question: \n",
    "* Use `count_documents` to display the number of documents contained in the result.\n",
    "* Display the first document in the results using `pprint`.\n",
    "* Convert the result to a Pandas DataFrame, print the number of rows in the DataFrame, and display the first 10 rows."
   ]
  },
  {
   "cell_type": "markdown",
   "id": "314bd884",
   "metadata": {},
   "source": [
    "### 1. Which establishments have a hygiene score equal to 20?"
   ]
  },
  {
   "cell_type": "code",
   "execution_count": 8,
   "id": "345ecf9d",
   "metadata": {},
   "outputs": [
    {
     "data": {
      "text/plain": [
       "{'_id': ObjectId('6507cf6c12cdb5e0d8023af3'),\n",
       " 'FHRSID': 647177,\n",
       " 'ChangesByServerID': 0,\n",
       " 'LocalAuthorityBusinessID': 'PI/000041489',\n",
       " 'BusinessName': 'Wear Bay Bowls Club',\n",
       " 'BusinessType': 'Pub/bar/nightclub',\n",
       " 'BusinessTypeID': 7843,\n",
       " 'AddressLine1': 'Wear Bay Road',\n",
       " 'AddressLine2': 'Folkestone',\n",
       " 'AddressLine3': 'Kent',\n",
       " 'AddressLine4': '',\n",
       " 'PostCode': 'CT19 6PY',\n",
       " 'Phone': '',\n",
       " 'RatingValue': 4,\n",
       " 'RatingKey': 'fhrs_4_en-gb',\n",
       " 'RatingDate': '2014-03-31T00:00:00',\n",
       " 'LocalAuthorityCode': '188',\n",
       " 'LocalAuthorityName': 'Folkestone and Hythe',\n",
       " 'LocalAuthorityWebSite': 'http://www.folkestone-hythe.gov.uk',\n",
       " 'LocalAuthorityEmailAddress': 'foodteam@folkestone-hythe.gov.uk',\n",
       " 'scores': {'Hygiene': 5, 'Structural': 5, 'ConfidenceInManagement': 10},\n",
       " 'SchemeType': 'FHRS',\n",
       " 'geocode': {'longitude': Decimal128('51.0860580000000'),\n",
       "  'latitude': Decimal128('51.0860580000000')},\n",
       " 'RightToReply': '',\n",
       " 'Distance': 4591.821311183521,\n",
       " 'NewRatingPending': False,\n",
       " 'meta': {'dataSource': None,\n",
       "  'extractDate': '0001-01-01T00:00:00',\n",
       "  'itemCount': 0,\n",
       "  'returncode': None,\n",
       "  'totalCount': 0,\n",
       "  'totalPages': 0,\n",
       "  'pageSize': 0,\n",
       "  'pageNumber': 0},\n",
       " 'links': [{'rel': 'self',\n",
       "   'href': 'https://api.ratings.food.gov.uk/establishments/647177'}]}"
      ]
     },
     "execution_count": 8,
     "metadata": {},
     "output_type": "execute_result"
    }
   ],
   "source": [
    "establishments.find_one()"
   ]
  },
  {
   "cell_type": "code",
   "execution_count": 9,
   "id": "c2da7648",
   "metadata": {},
   "outputs": [
    {
     "name": "stdout",
     "output_type": "stream",
     "text": [
      "Number of documents in result with: 41\n",
      "{'AddressLine1': '5-6 Southfields Road',\n",
      " 'AddressLine2': 'Eastbourne',\n",
      " 'AddressLine3': 'East Sussex',\n",
      " 'AddressLine4': '',\n",
      " 'BusinessName': 'The Chase Rest Home',\n",
      " 'BusinessType': 'Caring Premises',\n",
      " 'BusinessTypeID': 5,\n",
      " 'ChangesByServerID': 0,\n",
      " 'Distance': 4613.888288172291,\n",
      " 'FHRSID': 110681,\n",
      " 'LocalAuthorityBusinessID': '4029',\n",
      " 'LocalAuthorityCode': '102',\n",
      " 'LocalAuthorityEmailAddress': 'Customerfirst@eastbourne.gov.uk',\n",
      " 'LocalAuthorityName': 'Eastbourne',\n",
      " 'LocalAuthorityWebSite': 'http://www.eastbourne.gov.uk/foodratings',\n",
      " 'NewRatingPending': False,\n",
      " 'Phone': '',\n",
      " 'PostCode': 'BN21 1BU',\n",
      " 'RatingDate': '2021-09-23T00:00:00',\n",
      " 'RatingKey': 'fhrs_0_en-gb',\n",
      " 'RatingValue': 0,\n",
      " 'RightToReply': '',\n",
      " 'SchemeType': 'FHRS',\n",
      " '_id': ObjectId('6507cf6c12cdb5e0d802562a'),\n",
      " 'geocode': {'latitude': Decimal128('50.7697050000000'),\n",
      "             'longitude': Decimal128('50.7697050000000')},\n",
      " 'links': [{'href': 'https://api.ratings.food.gov.uk/establishments/110681',\n",
      "            'rel': 'self'}],\n",
      " 'meta': {'dataSource': None,\n",
      "          'extractDate': '0001-01-01T00:00:00',\n",
      "          'itemCount': 0,\n",
      "          'pageNumber': 0,\n",
      "          'pageSize': 0,\n",
      "          'returncode': None,\n",
      "          'totalCount': 0,\n",
      "          'totalPages': 0},\n",
      " 'scores': {'ConfidenceInManagement': 20, 'Hygiene': 20, 'Structural': 20}}\n"
     ]
    }
   ],
   "source": [
    "# Find the establishments with a hygiene score of 20\n",
    "query = {'scores.Hygiene':20}\n",
    "\n",
    "# Use count_documents to display the number of documents in the result\n",
    "establishments.count_documents(query)\n",
    "print(\"Number of documents in result with:\", establishments.count_documents(query))\n",
    "\n",
    "# Display the first document in the results using pprint\n",
    "pprint(establishments.find_one(query))"
   ]
  },
  {
   "cell_type": "code",
   "execution_count": 10,
   "id": "a6e5cece",
   "metadata": {},
   "outputs": [
    {
     "name": "stdout",
     "output_type": "stream",
     "text": [
      "There are 41 rows in this DataFrame\n"
     ]
    },
    {
     "data": {
      "text/html": [
       "<div>\n",
       "<style scoped>\n",
       "    .dataframe tbody tr th:only-of-type {\n",
       "        vertical-align: middle;\n",
       "    }\n",
       "\n",
       "    .dataframe tbody tr th {\n",
       "        vertical-align: top;\n",
       "    }\n",
       "\n",
       "    .dataframe thead th {\n",
       "        text-align: right;\n",
       "    }\n",
       "</style>\n",
       "<table border=\"1\" class=\"dataframe\">\n",
       "  <thead>\n",
       "    <tr style=\"text-align: right;\">\n",
       "      <th></th>\n",
       "      <th>_id</th>\n",
       "      <th>FHRSID</th>\n",
       "      <th>ChangesByServerID</th>\n",
       "      <th>LocalAuthorityBusinessID</th>\n",
       "      <th>BusinessName</th>\n",
       "      <th>BusinessType</th>\n",
       "      <th>BusinessTypeID</th>\n",
       "      <th>AddressLine1</th>\n",
       "      <th>AddressLine2</th>\n",
       "      <th>AddressLine3</th>\n",
       "      <th>...</th>\n",
       "      <th>LocalAuthorityWebSite</th>\n",
       "      <th>LocalAuthorityEmailAddress</th>\n",
       "      <th>scores</th>\n",
       "      <th>SchemeType</th>\n",
       "      <th>geocode</th>\n",
       "      <th>RightToReply</th>\n",
       "      <th>Distance</th>\n",
       "      <th>NewRatingPending</th>\n",
       "      <th>meta</th>\n",
       "      <th>links</th>\n",
       "    </tr>\n",
       "  </thead>\n",
       "  <tbody>\n",
       "    <tr>\n",
       "      <th>0</th>\n",
       "      <td>6507cf6c12cdb5e0d802562a</td>\n",
       "      <td>110681</td>\n",
       "      <td>0</td>\n",
       "      <td>4029</td>\n",
       "      <td>The Chase Rest Home</td>\n",
       "      <td>Caring Premises</td>\n",
       "      <td>5</td>\n",
       "      <td>5-6 Southfields Road</td>\n",
       "      <td>Eastbourne</td>\n",
       "      <td>East Sussex</td>\n",
       "      <td>...</td>\n",
       "      <td>http://www.eastbourne.gov.uk/foodratings</td>\n",
       "      <td>Customerfirst@eastbourne.gov.uk</td>\n",
       "      <td>{'Hygiene': 20, 'Structural': 20, 'ConfidenceI...</td>\n",
       "      <td>FHRS</td>\n",
       "      <td>{'longitude': 50.7697050000000, 'latitude': 50...</td>\n",
       "      <td></td>\n",
       "      <td>4613.888288</td>\n",
       "      <td>False</td>\n",
       "      <td>{'dataSource': None, 'extractDate': '0001-01-0...</td>\n",
       "      <td>[{'rel': 'self', 'href': 'https://api.ratings....</td>\n",
       "    </tr>\n",
       "    <tr>\n",
       "      <th>1</th>\n",
       "      <td>6507cf6c12cdb5e0d80259a7</td>\n",
       "      <td>612039</td>\n",
       "      <td>0</td>\n",
       "      <td>1970/FOOD</td>\n",
       "      <td>Brenalwood</td>\n",
       "      <td>Caring Premises</td>\n",
       "      <td>5</td>\n",
       "      <td>Hall Lane</td>\n",
       "      <td>Walton-on-the-Naze</td>\n",
       "      <td>Essex</td>\n",
       "      <td>...</td>\n",
       "      <td>http://www.tendringdc.gov.uk/</td>\n",
       "      <td>fhsadmin@tendringdc.gov.uk</td>\n",
       "      <td>{'Hygiene': 20, 'Structural': 15, 'ConfidenceI...</td>\n",
       "      <td>FHRS</td>\n",
       "      <td>{'longitude': 51.8575360000000, 'latitude': 51...</td>\n",
       "      <td></td>\n",
       "      <td>4617.965824</td>\n",
       "      <td>False</td>\n",
       "      <td>{'dataSource': None, 'extractDate': '0001-01-0...</td>\n",
       "      <td>[{'rel': 'self', 'href': 'https://api.ratings....</td>\n",
       "    </tr>\n",
       "    <tr>\n",
       "      <th>2</th>\n",
       "      <td>6507cf6c12cdb5e0d8025caf</td>\n",
       "      <td>730933</td>\n",
       "      <td>0</td>\n",
       "      <td>1698/FOOD</td>\n",
       "      <td>Melrose Hotel</td>\n",
       "      <td>Hotel/bed &amp; breakfast/guest house</td>\n",
       "      <td>7842</td>\n",
       "      <td>53 Marine Parade East</td>\n",
       "      <td>Clacton On Sea</td>\n",
       "      <td>Essex</td>\n",
       "      <td>...</td>\n",
       "      <td>http://www.tendringdc.gov.uk/</td>\n",
       "      <td>fhsadmin@tendringdc.gov.uk</td>\n",
       "      <td>{'Hygiene': 20, 'Structural': 20, 'ConfidenceI...</td>\n",
       "      <td>FHRS</td>\n",
       "      <td>{'longitude': 51.7894290000000, 'latitude': 51...</td>\n",
       "      <td></td>\n",
       "      <td>4619.656144</td>\n",
       "      <td>False</td>\n",
       "      <td>{'dataSource': None, 'extractDate': '0001-01-0...</td>\n",
       "      <td>[{'rel': 'self', 'href': 'https://api.ratings....</td>\n",
       "    </tr>\n",
       "    <tr>\n",
       "      <th>3</th>\n",
       "      <td>6507cf6c12cdb5e0d8025ea0</td>\n",
       "      <td>172735</td>\n",
       "      <td>0</td>\n",
       "      <td>PI/000023858</td>\n",
       "      <td>Seaford Pizza</td>\n",
       "      <td>Takeaway/sandwich shop</td>\n",
       "      <td>7844</td>\n",
       "      <td>4 High Street</td>\n",
       "      <td>Seaford</td>\n",
       "      <td>East Sussex</td>\n",
       "      <td>...</td>\n",
       "      <td>http://www.lewes-eastbourne.gov.uk/</td>\n",
       "      <td>ehealth.ldc@lewes-eastbourne.gov.uk</td>\n",
       "      <td>{'Hygiene': 20, 'Structural': 10, 'ConfidenceI...</td>\n",
       "      <td>FHRS</td>\n",
       "      <td>{'longitude': 50.7708850000000, 'latitude': 50...</td>\n",
       "      <td></td>\n",
       "      <td>4620.421725</td>\n",
       "      <td>False</td>\n",
       "      <td>{'dataSource': None, 'extractDate': '0001-01-0...</td>\n",
       "      <td>[{'rel': 'self', 'href': 'https://api.ratings....</td>\n",
       "    </tr>\n",
       "    <tr>\n",
       "      <th>4</th>\n",
       "      <td>6507cf6c12cdb5e0d8025eb1</td>\n",
       "      <td>172953</td>\n",
       "      <td>0</td>\n",
       "      <td>PI/000024532</td>\n",
       "      <td>Golden Palace</td>\n",
       "      <td>Restaurant/Cafe/Canteen</td>\n",
       "      <td>1</td>\n",
       "      <td>5 South Street</td>\n",
       "      <td>Seaford</td>\n",
       "      <td>East Sussex</td>\n",
       "      <td>...</td>\n",
       "      <td>http://www.lewes-eastbourne.gov.uk/</td>\n",
       "      <td>ehealth.ldc@lewes-eastbourne.gov.uk</td>\n",
       "      <td>{'Hygiene': 20, 'Structural': 10, 'ConfidenceI...</td>\n",
       "      <td>FHRS</td>\n",
       "      <td>{'longitude': 50.7707240000000, 'latitude': 50...</td>\n",
       "      <td></td>\n",
       "      <td>4620.437179</td>\n",
       "      <td>False</td>\n",
       "      <td>{'dataSource': None, 'extractDate': '0001-01-0...</td>\n",
       "      <td>[{'rel': 'self', 'href': 'https://api.ratings....</td>\n",
       "    </tr>\n",
       "    <tr>\n",
       "      <th>5</th>\n",
       "      <td>6507cf6c12cdb5e0d802684c</td>\n",
       "      <td>512854</td>\n",
       "      <td>0</td>\n",
       "      <td>12/00816/BUTH</td>\n",
       "      <td>Ashby's Butchers</td>\n",
       "      <td>Retailers - other</td>\n",
       "      <td>4613</td>\n",
       "      <td>777 Southchurch Road</td>\n",
       "      <td>Southend-On-Sea</td>\n",
       "      <td>Essex</td>\n",
       "      <td>...</td>\n",
       "      <td>http://www.southend.gov.uk</td>\n",
       "      <td>EnvironmentalHealth@southend.gov.uk</td>\n",
       "      <td>{'Hygiene': 20, 'Structural': 20, 'ConfidenceI...</td>\n",
       "      <td>FHRS</td>\n",
       "      <td>{'longitude': 51.5414480000000, 'latitude': 51...</td>\n",
       "      <td></td>\n",
       "      <td>4625.565258</td>\n",
       "      <td>False</td>\n",
       "      <td>{'dataSource': None, 'extractDate': '0001-01-0...</td>\n",
       "      <td>[{'rel': 'self', 'href': 'https://api.ratings....</td>\n",
       "    </tr>\n",
       "    <tr>\n",
       "      <th>6</th>\n",
       "      <td>6507cf6c12cdb5e0d8026a6d</td>\n",
       "      <td>1537089</td>\n",
       "      <td>0</td>\n",
       "      <td>22/00224/RESTUN</td>\n",
       "      <td>South Sea Express Cuisine</td>\n",
       "      <td>Restaurant/Cafe/Canteen</td>\n",
       "      <td>1</td>\n",
       "      <td>33 Alexandra Street</td>\n",
       "      <td>Southend-on-sea</td>\n",
       "      <td>Essex</td>\n",
       "      <td>...</td>\n",
       "      <td>http://www.southend.gov.uk</td>\n",
       "      <td>EnvironmentalHealth@southend.gov.uk</td>\n",
       "      <td>{'Hygiene': 20, 'Structural': 20, 'ConfidenceI...</td>\n",
       "      <td>FHRS</td>\n",
       "      <td>{'longitude': 51.5350065000000, 'latitude': 51...</td>\n",
       "      <td></td>\n",
       "      <td>4626.200132</td>\n",
       "      <td>False</td>\n",
       "      <td>{'dataSource': None, 'extractDate': '0001-01-0...</td>\n",
       "      <td>[{'rel': 'self', 'href': 'https://api.ratings....</td>\n",
       "    </tr>\n",
       "    <tr>\n",
       "      <th>7</th>\n",
       "      <td>6507cf6d12cdb5e0d8027f98</td>\n",
       "      <td>155648</td>\n",
       "      <td>0</td>\n",
       "      <td>EH/00006058</td>\n",
       "      <td>Golden Palace</td>\n",
       "      <td>Takeaway/sandwich shop</td>\n",
       "      <td>7844</td>\n",
       "      <td>7 London Road</td>\n",
       "      <td>Rayleigh</td>\n",
       "      <td>Essex</td>\n",
       "      <td>...</td>\n",
       "      <td>http://www.rochford.gov.uk</td>\n",
       "      <td>customerservices@rochford.gov.uk</td>\n",
       "      <td>{'Hygiene': 20, 'Structural': 15, 'ConfidenceI...</td>\n",
       "      <td>FHRS</td>\n",
       "      <td>{'longitude': 51.5915150000000, 'latitude': 51...</td>\n",
       "      <td></td>\n",
       "      <td>4632.276890</td>\n",
       "      <td>False</td>\n",
       "      <td>{'dataSource': None, 'extractDate': '0001-01-0...</td>\n",
       "      <td>[{'rel': 'self', 'href': 'http://api.ratings.f...</td>\n",
       "    </tr>\n",
       "    <tr>\n",
       "      <th>8</th>\n",
       "      <td>6507cf6d12cdb5e0d80283dd</td>\n",
       "      <td>1012883</td>\n",
       "      <td>0</td>\n",
       "      <td>17/00110/MIXED/S</td>\n",
       "      <td>The Tulip Tree</td>\n",
       "      <td>Restaurant/Cafe/Canteen</td>\n",
       "      <td>1</td>\n",
       "      <td>3 The Village</td>\n",
       "      <td>Chiddingstone</td>\n",
       "      <td>KENT</td>\n",
       "      <td>...</td>\n",
       "      <td>http://www.sevenoaks.gov.uk/</td>\n",
       "      <td>environmental.health@sevenoaks.gov.uk</td>\n",
       "      <td>{'Hygiene': 20, 'Structural': 5, 'ConfidenceIn...</td>\n",
       "      <td>FHRS</td>\n",
       "      <td>{'longitude': 51.1859474182129, 'latitude': 51...</td>\n",
       "      <td></td>\n",
       "      <td>4633.934041</td>\n",
       "      <td>False</td>\n",
       "      <td>{'dataSource': None, 'extractDate': '0001-01-0...</td>\n",
       "      <td>[{'rel': 'self', 'href': 'http://api.ratings.f...</td>\n",
       "    </tr>\n",
       "    <tr>\n",
       "      <th>9</th>\n",
       "      <td>6507cf6d12cdb5e0d8028bee</td>\n",
       "      <td>644109</td>\n",
       "      <td>0</td>\n",
       "      <td>41811</td>\n",
       "      <td>F &amp; S</td>\n",
       "      <td>Retailers - other</td>\n",
       "      <td>4613</td>\n",
       "      <td></td>\n",
       "      <td>81 Southernhay</td>\n",
       "      <td>Basildon</td>\n",
       "      <td>...</td>\n",
       "      <td>http://www.basildon.gov.uk</td>\n",
       "      <td>ehs@basildon.gov.uk</td>\n",
       "      <td>{'Hygiene': 20, 'Structural': 20, 'ConfidenceI...</td>\n",
       "      <td>FHRS</td>\n",
       "      <td>{'longitude': 51.5700500000000, 'latitude': 51...</td>\n",
       "      <td></td>\n",
       "      <td>4636.552523</td>\n",
       "      <td>False</td>\n",
       "      <td>{'dataSource': None, 'extractDate': '0001-01-0...</td>\n",
       "      <td>[{'rel': 'self', 'href': 'http://api.ratings.f...</td>\n",
       "    </tr>\n",
       "  </tbody>\n",
       "</table>\n",
       "<p>10 rows × 28 columns</p>\n",
       "</div>"
      ],
      "text/plain": [
       "                        _id   FHRSID  ChangesByServerID  \\\n",
       "0  6507cf6c12cdb5e0d802562a   110681                  0   \n",
       "1  6507cf6c12cdb5e0d80259a7   612039                  0   \n",
       "2  6507cf6c12cdb5e0d8025caf   730933                  0   \n",
       "3  6507cf6c12cdb5e0d8025ea0   172735                  0   \n",
       "4  6507cf6c12cdb5e0d8025eb1   172953                  0   \n",
       "5  6507cf6c12cdb5e0d802684c   512854                  0   \n",
       "6  6507cf6c12cdb5e0d8026a6d  1537089                  0   \n",
       "7  6507cf6d12cdb5e0d8027f98   155648                  0   \n",
       "8  6507cf6d12cdb5e0d80283dd  1012883                  0   \n",
       "9  6507cf6d12cdb5e0d8028bee   644109                  0   \n",
       "\n",
       "  LocalAuthorityBusinessID               BusinessName  \\\n",
       "0                     4029        The Chase Rest Home   \n",
       "1                1970/FOOD                 Brenalwood   \n",
       "2                1698/FOOD              Melrose Hotel   \n",
       "3             PI/000023858              Seaford Pizza   \n",
       "4             PI/000024532              Golden Palace   \n",
       "5            12/00816/BUTH           Ashby's Butchers   \n",
       "6          22/00224/RESTUN  South Sea Express Cuisine   \n",
       "7              EH/00006058              Golden Palace   \n",
       "8         17/00110/MIXED/S             The Tulip Tree   \n",
       "9                    41811                      F & S   \n",
       "\n",
       "                        BusinessType  BusinessTypeID           AddressLine1  \\\n",
       "0                    Caring Premises               5   5-6 Southfields Road   \n",
       "1                    Caring Premises               5              Hall Lane   \n",
       "2  Hotel/bed & breakfast/guest house            7842  53 Marine Parade East   \n",
       "3             Takeaway/sandwich shop            7844          4 High Street   \n",
       "4            Restaurant/Cafe/Canteen               1         5 South Street   \n",
       "5                  Retailers - other            4613   777 Southchurch Road   \n",
       "6            Restaurant/Cafe/Canteen               1    33 Alexandra Street   \n",
       "7             Takeaway/sandwich shop            7844          7 London Road   \n",
       "8            Restaurant/Cafe/Canteen               1          3 The Village   \n",
       "9                  Retailers - other            4613                          \n",
       "\n",
       "         AddressLine2 AddressLine3  ...  \\\n",
       "0          Eastbourne  East Sussex  ...   \n",
       "1  Walton-on-the-Naze        Essex  ...   \n",
       "2      Clacton On Sea        Essex  ...   \n",
       "3             Seaford  East Sussex  ...   \n",
       "4             Seaford  East Sussex  ...   \n",
       "5     Southend-On-Sea        Essex  ...   \n",
       "6     Southend-on-sea        Essex  ...   \n",
       "7            Rayleigh        Essex  ...   \n",
       "8       Chiddingstone         KENT  ...   \n",
       "9      81 Southernhay     Basildon  ...   \n",
       "\n",
       "                      LocalAuthorityWebSite  \\\n",
       "0  http://www.eastbourne.gov.uk/foodratings   \n",
       "1             http://www.tendringdc.gov.uk/   \n",
       "2             http://www.tendringdc.gov.uk/   \n",
       "3       http://www.lewes-eastbourne.gov.uk/   \n",
       "4       http://www.lewes-eastbourne.gov.uk/   \n",
       "5                http://www.southend.gov.uk   \n",
       "6                http://www.southend.gov.uk   \n",
       "7                http://www.rochford.gov.uk   \n",
       "8              http://www.sevenoaks.gov.uk/   \n",
       "9                http://www.basildon.gov.uk   \n",
       "\n",
       "              LocalAuthorityEmailAddress  \\\n",
       "0        Customerfirst@eastbourne.gov.uk   \n",
       "1             fhsadmin@tendringdc.gov.uk   \n",
       "2             fhsadmin@tendringdc.gov.uk   \n",
       "3    ehealth.ldc@lewes-eastbourne.gov.uk   \n",
       "4    ehealth.ldc@lewes-eastbourne.gov.uk   \n",
       "5    EnvironmentalHealth@southend.gov.uk   \n",
       "6    EnvironmentalHealth@southend.gov.uk   \n",
       "7       customerservices@rochford.gov.uk   \n",
       "8  environmental.health@sevenoaks.gov.uk   \n",
       "9                    ehs@basildon.gov.uk   \n",
       "\n",
       "                                              scores  SchemeType  \\\n",
       "0  {'Hygiene': 20, 'Structural': 20, 'ConfidenceI...        FHRS   \n",
       "1  {'Hygiene': 20, 'Structural': 15, 'ConfidenceI...        FHRS   \n",
       "2  {'Hygiene': 20, 'Structural': 20, 'ConfidenceI...        FHRS   \n",
       "3  {'Hygiene': 20, 'Structural': 10, 'ConfidenceI...        FHRS   \n",
       "4  {'Hygiene': 20, 'Structural': 10, 'ConfidenceI...        FHRS   \n",
       "5  {'Hygiene': 20, 'Structural': 20, 'ConfidenceI...        FHRS   \n",
       "6  {'Hygiene': 20, 'Structural': 20, 'ConfidenceI...        FHRS   \n",
       "7  {'Hygiene': 20, 'Structural': 15, 'ConfidenceI...        FHRS   \n",
       "8  {'Hygiene': 20, 'Structural': 5, 'ConfidenceIn...        FHRS   \n",
       "9  {'Hygiene': 20, 'Structural': 20, 'ConfidenceI...        FHRS   \n",
       "\n",
       "                                             geocode RightToReply  \\\n",
       "0  {'longitude': 50.7697050000000, 'latitude': 50...                \n",
       "1  {'longitude': 51.8575360000000, 'latitude': 51...                \n",
       "2  {'longitude': 51.7894290000000, 'latitude': 51...                \n",
       "3  {'longitude': 50.7708850000000, 'latitude': 50...                \n",
       "4  {'longitude': 50.7707240000000, 'latitude': 50...                \n",
       "5  {'longitude': 51.5414480000000, 'latitude': 51...                \n",
       "6  {'longitude': 51.5350065000000, 'latitude': 51...                \n",
       "7  {'longitude': 51.5915150000000, 'latitude': 51...                \n",
       "8  {'longitude': 51.1859474182129, 'latitude': 51...                \n",
       "9  {'longitude': 51.5700500000000, 'latitude': 51...                \n",
       "\n",
       "      Distance NewRatingPending  \\\n",
       "0  4613.888288            False   \n",
       "1  4617.965824            False   \n",
       "2  4619.656144            False   \n",
       "3  4620.421725            False   \n",
       "4  4620.437179            False   \n",
       "5  4625.565258            False   \n",
       "6  4626.200132            False   \n",
       "7  4632.276890            False   \n",
       "8  4633.934041            False   \n",
       "9  4636.552523            False   \n",
       "\n",
       "                                                meta  \\\n",
       "0  {'dataSource': None, 'extractDate': '0001-01-0...   \n",
       "1  {'dataSource': None, 'extractDate': '0001-01-0...   \n",
       "2  {'dataSource': None, 'extractDate': '0001-01-0...   \n",
       "3  {'dataSource': None, 'extractDate': '0001-01-0...   \n",
       "4  {'dataSource': None, 'extractDate': '0001-01-0...   \n",
       "5  {'dataSource': None, 'extractDate': '0001-01-0...   \n",
       "6  {'dataSource': None, 'extractDate': '0001-01-0...   \n",
       "7  {'dataSource': None, 'extractDate': '0001-01-0...   \n",
       "8  {'dataSource': None, 'extractDate': '0001-01-0...   \n",
       "9  {'dataSource': None, 'extractDate': '0001-01-0...   \n",
       "\n",
       "                                               links  \n",
       "0  [{'rel': 'self', 'href': 'https://api.ratings....  \n",
       "1  [{'rel': 'self', 'href': 'https://api.ratings....  \n",
       "2  [{'rel': 'self', 'href': 'https://api.ratings....  \n",
       "3  [{'rel': 'self', 'href': 'https://api.ratings....  \n",
       "4  [{'rel': 'self', 'href': 'https://api.ratings....  \n",
       "5  [{'rel': 'self', 'href': 'https://api.ratings....  \n",
       "6  [{'rel': 'self', 'href': 'https://api.ratings....  \n",
       "7  [{'rel': 'self', 'href': 'http://api.ratings.f...  \n",
       "8  [{'rel': 'self', 'href': 'http://api.ratings.f...  \n",
       "9  [{'rel': 'self', 'href': 'http://api.ratings.f...  \n",
       "\n",
       "[10 rows x 28 columns]"
      ]
     },
     "execution_count": 10,
     "metadata": {},
     "output_type": "execute_result"
    }
   ],
   "source": [
    "# Convert the result to a Pandas DataFrame\n",
    "hygiene_df = pd.DataFrame(establishments.find(query))\n",
    "\n",
    "# Display the number of rows in the DataFrame\n",
    "print (f\"There are {len(hygiene_df)} rows in this DataFrame\")\n",
    "\n",
    "# Display the first 10 rows of the DataFrame\n",
    "hygiene_df.head(10)\n"
   ]
  },
  {
   "cell_type": "code",
   "execution_count": 11,
   "id": "a98c34cb",
   "metadata": {},
   "outputs": [
    {
     "name": "stdout",
     "output_type": "stream",
     "text": [
      "There are 0 establishments in London that have a RatingValue greater than or equal to 4.\n"
     ]
    },
    {
     "name": "stdout",
     "output_type": "stream",
     "text": [
      "None\n"
     ]
    }
   ],
   "source": [
    "# Find the establishments with London as the Local Authority and has a RatingValue greater than or equal to 4.\n",
    "London_query = {'LocalAuthorityName': {'$regex': \"London\"},\n",
    "                'RatingValue': {'$gte': \"4\"}}\n",
    "\n",
    "# Use count_documents to display the number of documents in the result\n",
    "establishments.count_documents(London_query)\n",
    "print(f\"There are {establishments.count_documents(London_query)} establishments in London that have a RatingValue greater than or equal to 4.\")\n",
    "\n",
    "# Display the first document in the results using pprint\n",
    "pprint(establishments.find_one(London_query))"
   ]
  },
  {
   "cell_type": "markdown",
   "id": "0ef4395a",
   "metadata": {},
   "source": [
    "### 2. Which establishments in London have a `RatingValue` greater than or equal to 4?"
   ]
  },
  {
   "cell_type": "code",
   "execution_count": 12,
   "id": "07e24ccb",
   "metadata": {},
   "outputs": [
    {
     "name": "stdout",
     "output_type": "stream",
     "text": [
      "There are 0 rows in this DataFrame\n"
     ]
    },
    {
     "data": {
      "text/html": [
       "<div>\n",
       "<style scoped>\n",
       "    .dataframe tbody tr th:only-of-type {\n",
       "        vertical-align: middle;\n",
       "    }\n",
       "\n",
       "    .dataframe tbody tr th {\n",
       "        vertical-align: top;\n",
       "    }\n",
       "\n",
       "    .dataframe thead th {\n",
       "        text-align: right;\n",
       "    }\n",
       "</style>\n",
       "<table border=\"1\" class=\"dataframe\">\n",
       "  <thead>\n",
       "    <tr style=\"text-align: right;\">\n",
       "      <th></th>\n",
       "    </tr>\n",
       "  </thead>\n",
       "  <tbody>\n",
       "  </tbody>\n",
       "</table>\n",
       "</div>"
      ],
      "text/plain": [
       "Empty DataFrame\n",
       "Columns: []\n",
       "Index: []"
      ]
     },
     "execution_count": 12,
     "metadata": {},
     "output_type": "execute_result"
    }
   ],
   "source": [
    "# Convert the result to a Pandas DataFrame\n",
    "London_df = pd.DataFrame(establishments.find(London_query))\n",
    "\n",
    "# Display the number of rows in the DataFrame\n",
    "print (f\"There are {len(London_df)} rows in this DataFrame\")\n",
    "\n",
    "# Display the first 10 rows of the DataFrame\n",
    "London_df.head(10)\n"
   ]
  },
  {
   "cell_type": "code",
   "execution_count": 13,
   "id": "087e602b",
   "metadata": {},
   "outputs": [
    {
     "data": {
      "text/plain": [
       "Series([], dtype: int64)"
      ]
     },
     "execution_count": 13,
     "metadata": {},
     "output_type": "execute_result"
    }
   ],
   "source": [
    "London_df.count()\n",
    "#checking the count of rows in London_df"
   ]
  },
  {
   "attachments": {},
   "cell_type": "markdown",
   "id": "4e570caf",
   "metadata": {},
   "source": [
    "### 3. What are the top 5 establishments with a `RatingValue` rating value of 5, sorted by lowest hygiene score, nearest to the new restaurant added, \"Penang Flavours\"?"
   ]
  },
  {
   "cell_type": "code",
   "execution_count": 14,
   "id": "b00c68ee",
   "metadata": {},
   "outputs": [
    {
     "data": {
      "text/plain": [
       "<pymongo.results.UpdateResult at 0x1f836f0b3c0>"
      ]
     },
     "execution_count": 14,
     "metadata": {},
     "output_type": "execute_result"
    }
   ],
   "source": [
    "#change the data type of geocode.latitude and geocode.longitude and RatingValue from string to decimal\n",
    "establishments.update_many({}, [ {'$set':{ \"geocode.latitude\" : {'$toDouble': \"$geocode.latitude\"}}} ])\n",
    "establishments.update_many({}, [ {'$set':{ \"geocode.longitude\" : {'$toDouble': \"$geocode.longitude\"}}} ])\n",
    "#establishments.update_many({}, [ {'$set':{ \"RatingValue\" : {'$toDouble': \"$RatingValue\"}}} ]) #COULD NOT GET THIS TO WORK. TRIED INTVALUE, INT, INT32, INT64.  \n",
    "#query worked with quotes around the RatingValue 5 below. "
   ]
  },
  {
   "cell_type": "code",
   "execution_count": 15,
   "id": "7f599f3d",
   "metadata": {},
   "outputs": [
    {
     "name": "stdout",
     "output_type": "stream",
     "text": [
      "[]\n",
      "[]\n"
     ]
    }
   ],
   "source": [
    "# Search within 0.01 degree on either side of the latitude and longitude.\n",
    "# Rating value must equal 5\n",
    "# Sort by hygiene score.  The higher the score the worse in this hygiene area.\n",
    "#new restaurant panang flavours  \"geocode\":{\"longitude\":\"0.08384000\",\"latitude\":\"51.49014200\"}\n",
    "#'geocode.latitude': {'$gte':latitude-degree_search, '$lte':latitude+degree_search},\n",
    "#'scores.Hygiene': {'$ne': None}\n",
    "#CHANGE THE LAT , LONG, RATING VALUE TO INT FROM STRING FOR THE GREATER THAN OR LESS THAN. \n",
    "degree_search = 0.01\n",
    "latitude = 51.49014200 \n",
    "longitude = 0.08384000\n",
    "\n",
    "# geo_query={\"geocode.latitude\":{\"$gte\":latitude-degree_search, \"$lte\":latitude+degree_search},\n",
    "#             \"geocode.longitude\":{\"$gte\":longitude-degree_search, \"$lte\":longitude+degree_search},\n",
    "#             \"RatingValue\": \"5\"}\n",
    "\n",
    "query = {'geocode.latitude': {'$gte':latitude-degree_search, '$lte':latitude+degree_search}, \n",
    "         'geocode.longitude': {'$gte': longitude-degree_search, '$lte': longitude+degree_search},\n",
    "         'RatingValue':\"5\"}\n",
    "geo_results = list(establishments.find(query))\n",
    "                   #.sort(sort).limit(limit))\n",
    "\n",
    "#sort = [(\"scores.Hygiene\", 1)]\n",
    "\n",
    "# limit = 5\n",
    "\n",
    "\n",
    "# geo_results = list(establishments.find(geo_query).sort(sort).limit(limit))\n",
    "#pprint(geo_query)\n",
    "# Print the results\n",
    "pprint(geo_results)\n",
    "pprint(list(establishments.find(query)))"
   ]
  },
  {
   "cell_type": "code",
   "execution_count": 16,
   "id": "a6ad16f7",
   "metadata": {},
   "outputs": [
    {
     "data": {
      "text/html": [
       "<div>\n",
       "<style scoped>\n",
       "    .dataframe tbody tr th:only-of-type {\n",
       "        vertical-align: middle;\n",
       "    }\n",
       "\n",
       "    .dataframe tbody tr th {\n",
       "        vertical-align: top;\n",
       "    }\n",
       "\n",
       "    .dataframe thead th {\n",
       "        text-align: right;\n",
       "    }\n",
       "</style>\n",
       "<table border=\"1\" class=\"dataframe\">\n",
       "  <thead>\n",
       "    <tr style=\"text-align: right;\">\n",
       "      <th></th>\n",
       "    </tr>\n",
       "  </thead>\n",
       "  <tbody>\n",
       "  </tbody>\n",
       "</table>\n",
       "</div>"
      ],
      "text/plain": [
       "Empty DataFrame\n",
       "Columns: []\n",
       "Index: []"
      ]
     },
     "execution_count": 16,
     "metadata": {},
     "output_type": "execute_result"
    }
   ],
   "source": [
    "# Convert result to Pandas DataFrame\n",
    "geo_df = pd.json_normalize(geo_results)\n",
    "geo_df"
   ]
  },
  {
   "cell_type": "markdown",
   "id": "67281254",
   "metadata": {},
   "source": [
    "### 4. How many establishments in each Local Authority area have a hygiene score of 0?"
   ]
  },
  {
   "cell_type": "code",
   "execution_count": 17,
   "id": "4eeb227e",
   "metadata": {},
   "outputs": [
    {
     "name": "stdout",
     "output_type": "stream",
     "text": [
      "There are 55 documents in the result.\n",
      "[{'_id': 'Thanet', 'count': 1130},\n",
      " {'_id': 'Greenwich', 'count': 882},\n",
      " {'_id': 'Maidstone', 'count': 713},\n",
      " {'_id': 'Newham', 'count': 711},\n",
      " {'_id': 'Swale', 'count': 686},\n",
      " {'_id': 'Chelmsford', 'count': 680},\n",
      " {'_id': 'Medway', 'count': 672},\n",
      " {'_id': 'Bexley', 'count': 607},\n",
      " {'_id': 'Southend-On-Sea', 'count': 586},\n",
      " {'_id': 'Tendring', 'count': 542}]\n"
     ]
    }
   ],
   "source": [
    "# Create a pipeline that: \n",
    "# 1. Matches establishments with a hygiene score of 0\n",
    "# 2. Groups the matches by Local Authority\n",
    "# 3. Sorts the matches from highest to lowest\n",
    "\n",
    "#find all the documents with Hygiene score of 0\n",
    "match_query = {'$match': {'scores.Hygiene': 0}}\n",
    "\n",
    "# Write an aggregation query that counts the number of documents, grouped by \"LocalAuthorityName\"\n",
    "group_query = {'$group': {'_id': '$LocalAuthorityName', \n",
    "                          'count': {'$sum': 1}\n",
    "                          } \n",
    "                }\n",
    "\n",
    "# Create a dictionary that will allow the pipeline to sort by count in descending order\n",
    "sort_values = {'$sort': {'count': -1}}\n",
    "\n",
    "# Put the pipeline together\n",
    "pipeline = [match_query , group_query, sort_values]\n",
    "\n",
    "query_results = list(establishments.aggregate(pipeline))\n",
    "# Print the number of documents in the result\n",
    "print(f\"There are {len(query_results)} documents in the result.\")\n",
    "\n",
    "# Print the first 10 results\n",
    "pprint(query_results[0:10])"
   ]
  },
  {
   "cell_type": "code",
   "execution_count": 18,
   "id": "d8aab364",
   "metadata": {},
   "outputs": [
    {
     "name": "stdout",
     "output_type": "stream",
     "text": [
      "Number of rows in result:  55\n"
     ]
    },
    {
     "data": {
      "text/html": [
       "<div>\n",
       "<style scoped>\n",
       "    .dataframe tbody tr th:only-of-type {\n",
       "        vertical-align: middle;\n",
       "    }\n",
       "\n",
       "    .dataframe tbody tr th {\n",
       "        vertical-align: top;\n",
       "    }\n",
       "\n",
       "    .dataframe thead th {\n",
       "        text-align: right;\n",
       "    }\n",
       "</style>\n",
       "<table border=\"1\" class=\"dataframe\">\n",
       "  <thead>\n",
       "    <tr style=\"text-align: right;\">\n",
       "      <th></th>\n",
       "      <th>_id</th>\n",
       "      <th>count</th>\n",
       "    </tr>\n",
       "  </thead>\n",
       "  <tbody>\n",
       "    <tr>\n",
       "      <th>0</th>\n",
       "      <td>Thanet</td>\n",
       "      <td>1130</td>\n",
       "    </tr>\n",
       "    <tr>\n",
       "      <th>1</th>\n",
       "      <td>Greenwich</td>\n",
       "      <td>882</td>\n",
       "    </tr>\n",
       "    <tr>\n",
       "      <th>2</th>\n",
       "      <td>Maidstone</td>\n",
       "      <td>713</td>\n",
       "    </tr>\n",
       "    <tr>\n",
       "      <th>3</th>\n",
       "      <td>Newham</td>\n",
       "      <td>711</td>\n",
       "    </tr>\n",
       "    <tr>\n",
       "      <th>4</th>\n",
       "      <td>Swale</td>\n",
       "      <td>686</td>\n",
       "    </tr>\n",
       "    <tr>\n",
       "      <th>5</th>\n",
       "      <td>Chelmsford</td>\n",
       "      <td>680</td>\n",
       "    </tr>\n",
       "    <tr>\n",
       "      <th>6</th>\n",
       "      <td>Medway</td>\n",
       "      <td>672</td>\n",
       "    </tr>\n",
       "    <tr>\n",
       "      <th>7</th>\n",
       "      <td>Bexley</td>\n",
       "      <td>607</td>\n",
       "    </tr>\n",
       "    <tr>\n",
       "      <th>8</th>\n",
       "      <td>Southend-On-Sea</td>\n",
       "      <td>586</td>\n",
       "    </tr>\n",
       "    <tr>\n",
       "      <th>9</th>\n",
       "      <td>Tendring</td>\n",
       "      <td>542</td>\n",
       "    </tr>\n",
       "  </tbody>\n",
       "</table>\n",
       "</div>"
      ],
      "text/plain": [
       "               _id  count\n",
       "0           Thanet   1130\n",
       "1        Greenwich    882\n",
       "2        Maidstone    713\n",
       "3           Newham    711\n",
       "4            Swale    686\n",
       "5       Chelmsford    680\n",
       "6           Medway    672\n",
       "7           Bexley    607\n",
       "8  Southend-On-Sea    586\n",
       "9         Tendring    542"
      ]
     },
     "execution_count": 18,
     "metadata": {},
     "output_type": "execute_result"
    }
   ],
   "source": [
    "# Convert the result to a Pandas DataFrame\n",
    "aggregated_df = pd.json_normalize(query_results)\n",
    "aggregated_df.head()\n",
    "\n",
    "# Display the number of rows in the DataFrame\n",
    "print(\"Number of rows in result: \", len(aggregated_df))\n",
    "\n",
    "# Display the first 10 rows of the DataFrame\n",
    "aggregated_df.head(10)"
   ]
  },
  {
   "cell_type": "code",
   "execution_count": 19,
   "id": "bf784a25",
   "metadata": {},
   "outputs": [],
   "source": [
    "# Deleted the database, so I can run re-import to run codes again. \n",
    "# mongo.drop_database('uk_food')\n",
    "# mongo.list_database_names()"
   ]
  }
 ],
 "metadata": {
  "kernelspec": {
   "display_name": "Python 3 (ipykernel)",
   "language": "python",
   "name": "python3"
  },
  "language_info": {
   "codemirror_mode": {
    "name": "ipython",
    "version": 3
   },
   "file_extension": ".py",
   "mimetype": "text/x-python",
   "name": "python",
   "nbconvert_exporter": "python",
   "pygments_lexer": "ipython3",
   "version": "3.10.12"
  }
 },
 "nbformat": 4,
 "nbformat_minor": 5
}
